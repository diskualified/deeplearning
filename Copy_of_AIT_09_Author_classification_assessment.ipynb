{
  "nbformat": 4,
  "nbformat_minor": 0,
  "metadata": {
    "kernelspec": {
      "display_name": "Python 3",
      "language": "python",
      "name": "python3"
    },
    "language_info": {
      "codemirror_mode": {
        "name": "ipython",
        "version": 3
      },
      "file_extension": ".py",
      "mimetype": "text/x-python",
      "name": "python",
      "nbconvert_exporter": "python",
      "pygments_lexer": "ipython3",
      "version": "3.6.6"
    },
    "colab": {
      "provenance": [],
      "include_colab_link": true
    },
    "accelerator": "GPU",
    "gpuClass": "standard"
  },
  "cells": [
    {
      "cell_type": "markdown",
      "metadata": {
        "id": "view-in-github",
        "colab_type": "text"
      },
      "source": [
        "<a href=\"https://colab.research.google.com/github/diskualified/deeplearning/blob/main/Copy_of_AIT_09_Author_classification_assessment.ipynb\" target=\"_parent\"><img src=\"https://colab.research.google.com/assets/colab-badge.svg\" alt=\"Open In Colab\"/></a>"
      ]
    },
    {
      "cell_type": "markdown",
      "metadata": {
        "id": "_jiGtJu6u9ml"
      },
      "source": [
        "# Copyright\n",
        "\n",
        "<PRE>\n",
        "Copyright (c) 2023 Bálint Gyires-Tóth - All Rights Reserved\n",
        "You may use and modify this code for research and development purpuses.\n",
        "Use this code for educational purposes (self-paced or instructor led) without the permission of the author is prohibited.\n",
        "</PRE>"
      ]
    },
    {
      "cell_type": "markdown",
      "metadata": {
        "id": "oXyFC44jV-PP"
      },
      "source": [
        "# Author classification\n",
        "The task is to train a 1D CNN or an LSTM that is able to  classify text from two authors. The final model should be able to tell about a text with a given length (e.g. 60 characters) who wrote it. \n",
        "\n",
        "Please write the codes according to the following parts:"
      ]
    },
    {
      "cell_type": "markdown",
      "metadata": {
        "id": "jCnLoeGrHXsp"
      },
      "source": [
        "## Python module imports\n",
        "Import all Python modules that you would need during the Assignment."
      ]
    },
    {
      "cell_type": "code",
      "metadata": {
        "id": "7itbFGt3HXVT"
      },
      "source": [
        "from tensorflow.keras.models import Sequential\n",
        "from tensorflow.keras.layers import Dense, Activation, Dropout, Flatten, Conv1D, MaxPooling1D, Reshape\n",
        "from tensorflow.keras.callbacks import EarlyStopping\n",
        "from tensorflow.keras.layers import LSTM\n",
        "from tensorflow.keras.optimizers import RMSprop\n",
        "from urllib.request import urlretrieve\n",
        "import numpy as np\n",
        "import random\n",
        "import sys\n",
        "import re, cgi"
      ],
      "execution_count": 157,
      "outputs": []
    },
    {
      "cell_type": "markdown",
      "metadata": {
        "id": "Hr617tEpHd8R"
      },
      "source": [
        "## Data acquisition\n",
        "Seek a possible dataset, you can use any source, e.g.\n",
        "* http://www.gutenberg.org/\n",
        "* https://www.kaggle.com/datasets\n",
        "* https://paperswithcode.com/datasets\n",
        "* if you would like to learn Hungarian, than e.g. https://mek.oszk.hu/\n",
        "\n",
        "You can download the text by hand (e.g. by copy-pasting some parts into txt files) or with Python. "
      ]
    },
    {
      "cell_type": "code",
      "metadata": {
        "id": "NgkdQxHqHdZB"
      },
      "source": [
        "url_pandp=\"https://www.gutenberg.org/cache/epub/1342/pg1342.txt\"\n",
        "urlretrieve(url_pandp, 'pandp.txt')\n",
        "pandp = open(\"pandp.txt\", encoding='utf-8').read().lower()\n",
        "\n",
        "url_little_women=\"https://www.gutenberg.org/cache/epub/37106/pg37106.txt\"\n",
        "urlretrieve(url_little_women, 'little_women.txt')\n",
        "little_women = open(\"little_women.txt\", encoding='utf-8').read().lower()"
      ],
      "execution_count": 158,
      "outputs": []
    },
    {
      "cell_type": "markdown",
      "source": [
        "## Data analysis\n",
        "Count the number of characters from both authors and display them on a plot (e.g. Seaborn's countplot)."
      ],
      "metadata": {
        "id": "U9Pmq91t3SRD"
      }
    },
    {
      "cell_type": "code",
      "source": [
        "print('Number of characters in Pride and Prejudice:', len(pandp))\n",
        "print('Number of characters in Little Women:', len(little_women))"
      ],
      "metadata": {
        "id": "uRqGdn4F3Spk",
        "outputId": "acb2435c-4126-47b0-9853-0566941cb99c",
        "colab": {
          "base_uri": "https://localhost:8080/"
        }
      },
      "execution_count": 159,
      "outputs": [
        {
          "output_type": "stream",
          "name": "stdout",
          "text": [
            "Number of characters in Pride and Prejudice: 748079\n",
            "Number of characters in Little Women: 1100128\n"
          ]
        }
      ]
    },
    {
      "cell_type": "code",
      "source": [
        "import matplotlib.pyplot as plt\n",
        "data = {\"pandp\" : len(pandp), \"little_women\" : len(little_women)}\n",
        "plt.bar(data.keys(), data.values(), color ='maroon', width = 0.4)"
      ],
      "metadata": {
        "id": "wgrGdn1y-5n4",
        "outputId": "158e5348-567d-4d2b-c0ba-5a120a4aaa3f",
        "colab": {
          "base_uri": "https://localhost:8080/",
          "height": 462
        }
      },
      "execution_count": 160,
      "outputs": [
        {
          "output_type": "execute_result",
          "data": {
            "text/plain": [
              "<BarContainer object of 2 artists>"
            ]
          },
          "metadata": {},
          "execution_count": 160
        },
        {
          "output_type": "display_data",
          "data": {
            "text/plain": [
              "<Figure size 640x480 with 1 Axes>"
            ],
            "image/png": "[encoded data removed]"
          },
          "metadata": {}
        }
      ]
    },
    {
      "cell_type": "markdown",
      "metadata": {
        "id": "cHyE_ndGIblJ"
      },
      "source": [
        "## Data loading, labeling and preprocessing\n",
        "Load the data and convert the characters into one-hot encodings. Then load the data into a 3D NumPy array, with a shape of\n",
        "\n",
        "* (batch, sequence_length, alphabet_length)\n",
        "\n",
        "where sequence_length=60, and alphabet_length equals to the number of unique characters in both datasets. The sequences should be cut out from the complete dataset by sliding window. You should add 0 and 1 labels to the sequences, according to the author. \n",
        "\n",
        "Later you may change sequence_length to achieve better results!"
      ]
    },
    {
      "cell_type": "code",
      "metadata": {
        "id": "arooXt0WIb6x",
        "colab": {
          "base_uri": "https://localhost:8080/"
        },
        "outputId": "cdd457d5-b2cb-4a64-8b0e-cbcf39992921"
      },
      "source": [
        "pandpchar = sorted(list(set(pandp)))\n",
        "lwchar = sorted(list(set(little_women)))\n",
        "print(len(pandpchar))\n",
        "print(len(lwchar))"
      ],
      "execution_count": 161,
      "outputs": [
        {
          "output_type": "stream",
          "name": "stdout",
          "text": [
            "72\n",
            "77\n"
          ]
        }
      ]
    },
    {
      "cell_type": "code",
      "source": [
        "ppchar_indices = dict((c, i) for i, c in enumerate(pandpchar))\n",
        "ppindices_char = dict((i, c) for i, c in enumerate(pandpchar))\n",
        "\n",
        "print (\"Indices to char dictionary:\", ppindices_char)"
      ],
      "metadata": {
        "colab": {
          "base_uri": "https://localhost:8080/"
        },
        "id": "fzdwSxsbpqSW",
        "outputId": "63adf94f-aedd-4e19-b844-09cb9faa9d27"
      },
      "execution_count": 162,
      "outputs": [
        {
          "output_type": "stream",
          "name": "stdout",
          "text": [
            "Indices to char dictionary: {0: '\\n', 1: ' ', 2: '!', 3: '\"', 4: '#', 5: '$', 6: '%', 7: '&', 8: \"'\", 9: '(', 10: ')', 11: '*', 12: ',', 13: '-', 14: '.', 15: '/', 16: '0', 17: '1', 18: '2', 19: '3', 20: '4', 21: '5', 22: '6', 23: '7', 24: '8', 25: '9', 26: ':', 27: ';', 28: '?', 29: '[', 30: ']', 31: '^', 32: '_', 33: 'a', 34: 'b', 35: 'c', 36: 'd', 37: 'e', 38: 'f', 39: 'g', 40: 'h', 41: 'i', 42: 'j', 43: 'k', 44: 'l', 45: 'm', 46: 'n', 47: 'o', 48: 'p', 49: 'q', 50: 'r', 51: 's', 52: 't', 53: 'u', 54: 'v', 55: 'w', 56: 'x', 57: 'y', 58: 'z', 59: '{', 60: '}', 61: '·', 62: 'à', 63: 'â', 64: 'é', 65: 'ê', 66: 'œ', 67: '‘', 68: '’', 69: '“', 70: '”', 71: '\\ufeff'}\n"
          ]
        }
      ]
    },
    {
      "cell_type": "code",
      "source": [
        "lwchar_indices = dict((c, i) for i, c in enumerate(lwchar))\n",
        "lwindices_char = dict((i, c) for i, c in enumerate(lwchar))\n",
        "\n",
        "print (\"Indices to char dictionary:\", lwindices_char)"
      ],
      "metadata": {
        "colab": {
          "base_uri": "https://localhost:8080/"
        },
        "id": "YcU4iKWcpuNO",
        "outputId": "15667d85-05cb-4354-9d5e-f6ec6f98312a"
      },
      "execution_count": 163,
      "outputs": [
        {
          "output_type": "stream",
          "name": "stdout",
          "text": [
            "Indices to char dictionary: {0: '\\n', 1: ' ', 2: '!', 3: '\"', 4: '#', 5: '$', 6: '%', 7: '&', 8: \"'\", 9: '(', 10: ')', 11: '*', 12: ',', 13: '-', 14: '.', 15: '/', 16: '0', 17: '1', 18: '2', 19: '3', 20: '4', 21: '5', 22: '6', 23: '7', 24: '8', 25: '9', 26: ':', 27: ';', 28: '=', 29: '?', 30: '@', 31: '[', 32: ']', 33: '_', 34: 'a', 35: 'b', 36: 'c', 37: 'd', 38: 'e', 39: 'f', 40: 'g', 41: 'h', 42: 'i', 43: 'j', 44: 'k', 45: 'l', 46: 'm', 47: 'n', 48: 'o', 49: 'p', 50: 'q', 51: 'r', 52: 's', 53: 't', 54: 'u', 55: 'v', 56: 'w', 57: 'x', 58: 'y', 59: 'z', 60: '{', 61: '\\xa0', 62: 'à', 63: 'â', 64: 'ä', 65: 'æ', 66: 'ç', 67: 'è', 68: 'é', 69: 'ê', 70: 'ë', 71: 'ö', 72: 'ü', 73: 'œ', 74: '•', 75: '™', 76: '\\ufeff'}\n"
          ]
        }
      ]
    },
    {
      "cell_type": "code",
      "source": [
        "combined_char_indices = (lwchar_indices| ppchar_indices)"
      ],
      "metadata": {
        "id": "xWbflhpqp7oc"
      },
      "execution_count": 164,
      "outputs": []
    },
    {
      "cell_type": "code",
      "source": [
        "seq_len = 60\n",
        "step = 60\n",
        "ppsentences = []\n",
        "lwsentences = []"
      ],
      "metadata": {
        "id": "XXbY_osYnegD"
      },
      "execution_count": 165,
      "outputs": []
    },
    {
      "cell_type": "code",
      "source": [
        "for i in range(0, len(pandp)-seq_len, step):\n",
        "    ppsentences.append(pandp[i:i+seq_len])\n",
        "for i in range(0, len(little_women)-seq_len, step):\n",
        "    lwsentences.append(little_women[i:i+seq_len])\n",
        "totallen = len(ppsentences) + len(lwsentences)"
      ],
      "metadata": {
        "id": "DdyDTT8dn9JA"
      },
      "execution_count": 166,
      "outputs": []
    },
    {
      "cell_type": "code",
      "source": [
        "# X is sequences by character\n",
        "X = np.zeros((totallen, seq_len, len(combined_char_indices)), dtype =float)\n",
        "# y is 0 or 1 based on author\n",
        "y = np.zeros((totallen,2), dtype=float)"
      ],
      "metadata": {
        "id": "XeVGanMnojdR"
      },
      "execution_count": 167,
      "outputs": []
    },
    {
      "cell_type": "code",
      "source": [
        "for i, sentence in enumerate(ppsentences):\n",
        "    for t, char in enumerate(sentence): \n",
        "        X[i,t,combined_char_indices[char]] = 1\n",
        "    y[i][0] = 1\n",
        "\n",
        "for i, sentence in enumerate(lwsentences):\n",
        "    for t, char in enumerate(sentence): \n",
        "        X[i+len(ppsentences),t,combined_char_indices[char]] = 1\n",
        "    y[i+len(ppsentences)][1] = 1\n",
        "\n",
        "print (\"Shape of the input data:\", X.shape)\n",
        "print (\"Shape of the target data:\", y.shape)"
      ],
      "metadata": {
        "colab": {
          "base_uri": "https://localhost:8080/"
        },
        "id": "ESmh8F_3rAGs",
        "outputId": "f632512d-e663-49c7-e4a2-4ff7186c49b2"
      },
      "execution_count": 168,
      "outputs": [
        {
          "output_type": "stream",
          "name": "stdout",
          "text": [
            "Shape of the input data: (30802, 60, 84)\n",
            "Shape of the target data: (30802, 2)\n"
          ]
        }
      ]
    },
    {
      "cell_type": "markdown",
      "metadata": {
        "id": "lL1Mc8ibHnep"
      },
      "source": [
        "## Data splitting\n",
        "Split the data into train, validate and test sets. Make "
      ]
    },
    {
      "cell_type": "code",
      "source": [
        "pplen = len(ppsentences)\n",
        "lwlen = len(lwsentences)\n",
        "print(pplen)\n",
        "print(lwlen)"
      ],
      "metadata": {
        "colab": {
          "base_uri": "https://localhost:8080/"
        },
        "id": "rv5VX3BK6Nj9",
        "outputId": "0d5f82d9-0404-47d1-aa78-85608888c8ce"
      },
      "execution_count": 169,
      "outputs": [
        {
          "output_type": "stream",
          "name": "stdout",
          "text": [
            "12467\n",
            "18335\n"
          ]
        }
      ]
    },
    {
      "cell_type": "code",
      "metadata": {
        "id": "ELyG9XFUHrkB"
      },
      "source": [
        "train_ratio = 0.8\n",
        "validate_ratio = 0.1\n",
        "test_ratio = 0.1\n",
        "\n",
        "pptrain_split = int(train_ratio * pplen)\n",
        "ppvalid_split = pptrain_split + int(validate_ratio * pplen)\n",
        "\n",
        "lwtrain_split = pplen + int(train_ratio * lwlen)\n",
        "lwvalid_split = lwtrain_split + int(validate_ratio * lwlen)\n",
        "\n",
        "X_train = np.concatenate((X[:pptrain_split], X[pplen:lwtrain_split]), axis=0)\n",
        "X_valid = np.concatenate((X[pptrain_split:ppvalid_split], X[lwtrain_split:lwvalid_split]), axis=0) \n",
        "X_test = np.concatenate((X[ppvalid_split:pplen], X[lwvalid_split:]), axis=0)\n",
        "\n",
        "Y_train = np.concatenate((y[:pptrain_split], y[pplen:lwtrain_split]), axis=0)\n",
        "Y_valid = np.concatenate((y[pptrain_split:ppvalid_split], y[lwtrain_split:lwvalid_split]), axis=0)\n",
        "Y_test = np.concatenate((y[ppvalid_split:pplen], y[lwvalid_split:]), axis=0)\n",
        "\n"
      ],
      "execution_count": 170,
      "outputs": []
    },
    {
      "cell_type": "markdown",
      "metadata": {
        "id": "hA8U9tr7HrNQ"
      },
      "source": [
        "## Model definition\n",
        "Define a 1D CNN or an LSTM for the task. Compile the model with the correct loss function."
      ]
    },
    {
      "cell_type": "code",
      "metadata": {
        "id": "BT1V1s4kHuUe"
      },
      "source": [
        "nb_filter       = 32   # number of filter/kernels in the convolutional layers\n",
        "filter_length   = 3  # length of the filter/kernel in the convolutional layers\n",
        "window_size     = X_train.shape[1] # the window size defined by the dataset\n",
        "nb_features     = X_train.shape[2] # the number of features of the input data\n",
        "nb_outputs      = Y_train.shape[1] # the number of outputs (defined by the target data)"
      ],
      "execution_count": 171,
      "outputs": []
    },
    {
      "cell_type": "code",
      "source": [
        "model = Sequential()\n",
        "model.add(Conv1D(filters=nb_filter, kernel_size=filter_length, activation='relu', kernel_initializer='he_normal', input_shape=(window_size, nb_features)))\n",
        "model.add(MaxPooling1D())\n",
        "model.add(Dropout(0.3))\n",
        "model.add(Conv1D(filters=nb_filter, kernel_size=filter_length, activation='relu', kernel_initializer='he_normal'))\n",
        "model.add(MaxPooling1D())\n",
        "model.add(Dropout(0.3))\n",
        "model.add(Flatten())\n",
        "model.add(Dense(128, activation='tanh'))\n",
        "model.add(Dropout(0.3))\n",
        "model.add(Dense(nb_outputs, activation='sigmoid'))"
      ],
      "metadata": {
        "id": "smgJ2pzj-J8D"
      },
      "execution_count": 172,
      "outputs": []
    },
    {
      "cell_type": "code",
      "source": [
        "model.compile(loss='binary_crossentropy', optimizer='adam', metrics=['accuracy'])"
      ],
      "metadata": {
        "id": "vmEdTWIf-P48"
      },
      "execution_count": 173,
      "outputs": []
    },
    {
      "cell_type": "code",
      "source": [
        "es = EarlyStopping(patience=5, restore_best_weights=True, monitor=\"val_loss\")"
      ],
      "metadata": {
        "id": "z4eI1ovt-VgI"
      },
      "execution_count": 174,
      "outputs": []
    },
    {
      "cell_type": "markdown",
      "metadata": {
        "id": "hWFb-nAMHuAI"
      },
      "source": [
        "## Model training\n",
        "Train the model and apply early stopping."
      ]
    },
    {
      "cell_type": "code",
      "metadata": {
        "id": "dvgKjqp3Hwkp",
        "colab": {
          "base_uri": "https://localhost:8080/"
        },
        "outputId": "87a2e458-5992-4b8b-f52f-43e6376c1e39"
      },
      "source": [
        "model.fit(X_train, Y_train, \n",
        "          epochs=50, batch_size=32, \n",
        "          # validation_split=0.2, # don't change the validation split\n",
        "          validation_data=(X_valid,Y_valid),\n",
        "          callbacks=[es],\n",
        "          verbose=2)"
      ],
      "execution_count": 175,
      "outputs": [
        {
          "output_type": "stream",
          "name": "stdout",
          "text": [
            "Epoch 1/50\n",
            "771/771 - 6s - loss: 0.5218 - accuracy: 0.7120 - val_loss: 0.4180 - val_accuracy: 0.7736 - 6s/epoch - 7ms/step\n",
            "Epoch 2/50\n",
            "771/771 - 3s - loss: 0.3636 - accuracy: 0.8181 - val_loss: 0.3673 - val_accuracy: 0.8120 - 3s/epoch - 4ms/step\n",
            "Epoch 3/50\n",
            "771/771 - 4s - loss: 0.3340 - accuracy: 0.8364 - val_loss: 0.3563 - val_accuracy: 0.8184 - 4s/epoch - 5ms/step\n",
            "Epoch 4/50\n",
            "771/771 - 3s - loss: 0.3149 - accuracy: 0.8520 - val_loss: 0.3504 - val_accuracy: 0.8220 - 3s/epoch - 4ms/step\n",
            "Epoch 5/50\n",
            "771/771 - 3s - loss: 0.3083 - accuracy: 0.8508 - val_loss: 0.3391 - val_accuracy: 0.8279 - 3s/epoch - 4ms/step\n",
            "Epoch 6/50\n",
            "771/771 - 3s - loss: 0.2985 - accuracy: 0.8588 - val_loss: 0.3352 - val_accuracy: 0.8204 - 3s/epoch - 4ms/step\n",
            "Epoch 7/50\n",
            "771/771 - 4s - loss: 0.2944 - accuracy: 0.8593 - val_loss: 0.3451 - val_accuracy: 0.8311 - 4s/epoch - 6ms/step\n",
            "Epoch 8/50\n",
            "771/771 - 3s - loss: 0.2876 - accuracy: 0.8638 - val_loss: 0.3253 - val_accuracy: 0.8363 - 3s/epoch - 4ms/step\n",
            "Epoch 9/50\n",
            "771/771 - 3s - loss: 0.2816 - accuracy: 0.8671 - val_loss: 0.3640 - val_accuracy: 0.8094 - 3s/epoch - 4ms/step\n",
            "Epoch 10/50\n",
            "771/771 - 4s - loss: 0.2825 - accuracy: 0.8689 - val_loss: 0.3258 - val_accuracy: 0.8373 - 4s/epoch - 5ms/step\n",
            "Epoch 11/50\n",
            "771/771 - 3s - loss: 0.2739 - accuracy: 0.8737 - val_loss: 0.3096 - val_accuracy: 0.8490 - 3s/epoch - 4ms/step\n",
            "Epoch 12/50\n",
            "771/771 - 4s - loss: 0.2711 - accuracy: 0.8752 - val_loss: 0.3185 - val_accuracy: 0.8334 - 4s/epoch - 5ms/step\n",
            "Epoch 13/50\n",
            "771/771 - 4s - loss: 0.2670 - accuracy: 0.8783 - val_loss: 0.3145 - val_accuracy: 0.8496 - 4s/epoch - 5ms/step\n",
            "Epoch 14/50\n",
            "771/771 - 4s - loss: 0.2643 - accuracy: 0.8783 - val_loss: 0.3216 - val_accuracy: 0.8386 - 4s/epoch - 5ms/step\n",
            "Epoch 15/50\n",
            "771/771 - 3s - loss: 0.2635 - accuracy: 0.8753 - val_loss: 0.3466 - val_accuracy: 0.8158 - 3s/epoch - 4ms/step\n",
            "Epoch 16/50\n",
            "771/771 - 3s - loss: 0.2618 - accuracy: 0.8790 - val_loss: 0.3147 - val_accuracy: 0.8438 - 3s/epoch - 4ms/step\n"
          ]
        },
        {
          "output_type": "execute_result",
          "data": {
            "text/plain": [
              "<keras.callbacks.History at 0x7f9572606400>"
            ]
          },
          "metadata": {},
          "execution_count": 175
        }
      ]
    },
    {
      "cell_type": "markdown",
      "metadata": {
        "id": "0omw2XzSHwOo"
      },
      "source": [
        "## Evaluation on test data\n",
        "Evaluate the model on the test data in terms of loss and accuracy."
      ]
    },
    {
      "cell_type": "code",
      "metadata": {
        "id": "4bF3dQA1Hv_R",
        "colab": {
          "base_uri": "https://localhost:8080/"
        },
        "outputId": "68a5ef7f-cdd6-44c4-a43b-385cbae9bdae"
      },
      "source": [
        "eval = model.evaluate(X_test,Y_test)\n",
        "print(\"Test loss:\",eval[0])\n",
        "print(\"Test accuracy:\",eval[1])"
      ],
      "execution_count": 176,
      "outputs": [
        {
          "output_type": "stream",
          "name": "stdout",
          "text": [
            "97/97 [==============================] - 0s 4ms/step - loss: 0.4496 - accuracy: 0.8050\n",
            "Test loss: 0.44957420229911804\n",
            "Test accuracy: 0.8049967288970947\n"
          ]
        }
      ]
    },
    {
      "cell_type": "markdown",
      "metadata": {
        "id": "4Y73Q-h5Hz1r"
      },
      "source": [
        "## Confusion matrix\n",
        "Calculate and display the confusion matrix."
      ]
    },
    {
      "cell_type": "code",
      "metadata": {
        "id": "cW8zZi1uJm2B",
        "colab": {
          "base_uri": "https://localhost:8080/",
          "height": 469
        },
        "outputId": "c52a94ee-2bf7-477b-95c6-1b721f110d11"
      },
      "source": [
        "from sklearn.metrics import confusion_matrix, classification_report\n",
        "import seaborn as sns\n",
        "\n",
        "preds = model.predict(X_test)\n",
        "conf=confusion_matrix(np.argmax(Y_test,1),np.argmax(preds,1))\n",
        "sns.heatmap(conf, annot=True, fmt='d', vmax=1600)"
      ],
      "execution_count": 179,
      "outputs": [
        {
          "output_type": "stream",
          "name": "stdout",
          "text": [
            "97/97 [==============================] - 1s 5ms/step\n"
          ]
        },
        {
          "output_type": "execute_result",
          "data": {
            "text/plain": [
              "<Axes: >"
            ]
          },
          "metadata": {},
          "execution_count": 179
        },
        {
          "output_type": "display_data",
          "data": {
            "text/plain": [
              "<Figure size 640x480 with 2 Axes>"
            ],
            "image/png": "[encoded data removed]"
          },
          "metadata": {}
        }
      ]
    },
    {
      "cell_type": "code",
      "source": [
        "print(classification_report(np.argmax(Y_test,1),np.argmax(preds,1)))\n"
      ],
      "metadata": {
        "colab": {
          "base_uri": "https://localhost:8080/"
        },
        "id": "i1-CXqfrW5kb",
        "outputId": "c514594d-195d-4651-c691-e553a3c0cb28"
      },
      "execution_count": 178,
      "outputs": [
        {
          "output_type": "stream",
          "name": "stdout",
          "text": [
            "              precision    recall  f1-score   support\n",
            "\n",
            "           0       0.77      0.74      0.75      1248\n",
            "           1       0.83      0.85      0.84      1834\n",
            "\n",
            "    accuracy                           0.80      3082\n",
            "   macro avg       0.80      0.79      0.80      3082\n",
            "weighted avg       0.80      0.80      0.80      3082\n",
            "\n"
          ]
        }
      ]
    }
  ]
}